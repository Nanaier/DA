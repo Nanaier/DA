{
 "cells": [
  {
   "cell_type": "code",
   "execution_count": 21,
   "metadata": {
    "pycharm": {
     "name": "#%%\n"
    }
   },
   "outputs": [],
   "source": [
    "import pandas as pd\n",
    "import matplotlib.pyplot as plt\n",
    "import numpy as np\n",
    "from sklearn.datasets import load_iris\n",
    "\n",
    "pd.set_option('display.max_rows', None)\n",
    "pd.set_option('display.max_columns', None)\n",
    "pd.set_option('display.max_colwidth', None)\n",
    "pd.set_option('display.width', 320)\n",
    "\n",
    "\n",
    "def read_dataset(path):\n",
    "    data = pd.read_csv(path, sep=\";\", encoding='cp1252')\n",
    "    return data\n",
    "\n",
    "\n",
    "def convert_column_to_float(dataset, column_label):\n",
    "    dataset[column_label] = dataset[column_label].str.replace(',', '.').astype(float)\n",
    "\n",
    "\n",
    "def convert_nan_to_mean(dataset):\n",
    "    dataset.fillna(dataset.mean(), inplace=True)\n",
    "\n",
    "\n",
    "def convert_float_to_positive(dataset, column_label):\n",
    "    dataset[column_label] = dataset[column_label].abs()\n",
    "\n",
    "\n",
    "def create_boxplots(dataset):\n",
    "    grp, axes = plt.subplots(1, 4, figsize=(12, 6))\n",
    "    grp.suptitle(\"Boxplots\")\n",
    "    axes[0].boxplot(dataset[\"Area\"])\n",
    "    axes[0].set_title(\"Area\")\n",
    "\n",
    "    axes[1].boxplot(dataset[\"Population\"])\n",
    "    axes[1].set_title(\"Population\")\n",
    "\n",
    "    axes[2].boxplot(dataset[\"CO2 emission\"])\n",
    "    axes[2].set_title(\"CO2 emission\")\n",
    "\n",
    "    axes[3].boxplot(dataset[\"GDP per capita\"])\n",
    "    axes[3].set_title(\"GDP per capita\")\n",
    "    plt.show()\n",
    "\n",
    "\n",
    "def create_hists(dataset):\n",
    "    grp, axes = plt.subplots(2, 2, figsize=(12, 7))\n",
    "    grp.suptitle(\"Histograms\")\n",
    "    axes[0, 0].hist(dataset[\"Area\"])\n",
    "    axes[0, 0].set_title(\"Area\")\n",
    "\n",
    "    axes[0, 1].hist(dataset[\"Population\"])\n",
    "    axes[0, 1].set_title(\"Population\")\n",
    "\n",
    "    axes[1, 0].hist(dataset[\"CO2 emission\"])\n",
    "    axes[1, 0].set_title(\"CO2 emission\")\n",
    "\n",
    "    axes[1, 1].hist(dataset[\"GDP per capita\"])\n",
    "    axes[1, 1].set_title(\"GDP per capita\")\n",
    "    plt.show()\n",
    "\n",
    "\n",
    "def country_max_gdp(dataset):\n",
    "    country_id = dataset['GDP per capita'].idxmax()\n",
    "    country_row = dataset.loc[country_id]\n",
    "    country_name = country_row['Country Name']\n",
    "    print(\"\\n---------///----------\\n\")\n",
    "    print(\"Name of the country with the max GDP per capita: \", country_name)\n",
    "    print(\"The max GDP per capita: \", country_row['GDP per capita'])\n",
    "    print(\"\\n---------///----------\\n\")\n",
    "\n",
    "\n",
    "def country_min_area(dataset):\n",
    "    country_id = dataset['Area'].idxmin()\n",
    "    country_row = dataset.loc[country_id]\n",
    "    country_name = country_row['Country Name']\n",
    "    print(\"\\n---------///----------\\n\")\n",
    "    print(\"Name of the country with the min Area: \", country_name)\n",
    "    print(\"The min Area: \", country_row['Area'])\n",
    "    print(\"\\n---------///----------\\n\")\n",
    "\n",
    "\n",
    "def max_avg_area_in_region(dataset):\n",
    "    avg_area = dataset.groupby('Region').agg(np.mean)\n",
    "    region_name = avg_area['Area'].idxmax()\n",
    "    max_area = avg_area['Area'].max()\n",
    "    print(\"\\n---------///----------\\n\")\n",
    "    print(\"Name of the Region with the max mean Area: \", region_name)\n",
    "    print(\"The max mean Area: \", max_area)\n",
    "    print(\"\\n---------///----------\\n\")\n",
    "\n",
    "\n",
    "def max_density_in_regions(dataset):\n",
    "    max_density_id = dataset['Density'].idxmax()\n",
    "    max_density_row = dataset.loc[max_density_id]\n",
    "    max_density_name = max_density_row['Country Name']\n",
    "    print(\"\\n---------///----------\\n\")\n",
    "    print(\"Name of the country with the max density in the world: \", max_density_name)\n",
    "    print(\"The max density in the world: \", max_density_row['Density'])\n",
    "    print(\"\\n---------///----------\\n\")\n",
    "\n",
    "    max_density_eur_asia_id = dataset['Density'].where(dataset['Region'] == 'Europe & Central Asia').idxmax()\n",
    "    max_density_eur_asia_country_row = dataset.loc[max_density_eur_asia_id]\n",
    "    max_density_eur_asia_country_name = max_density_eur_asia_country_row['Country Name']\n",
    "    print(\"\\n---------///----------\\n\")\n",
    "    print(\"Name of the country with the max density in Europe & Central Asia: \", max_density_eur_asia_country_name)\n",
    "    print(\"The max density in Europe & Central Asia: \", max_density_eur_asia_country_row['Density'])\n",
    "    print(\"\\n---------///----------\\n\")\n",
    "\n",
    "\n",
    "def median_mean_region_equal(dataset):\n",
    "    regions_average_gdp = dataset.groupby(['Region']).mean()['GDP per capita']\n",
    "    regions_mediana_gdp = dataset.groupby(['Region']).median()['GDP per capita']\n",
    "    regins_coincide = pd.merge(regions_average_gdp, regions_mediana_gdp, how='inner')\n",
    "    print('\\nAverage gdp in region: ', regions_average_gdp)\n",
    "    print('\\nMedian gdp in region: ', regions_mediana_gdp)\n",
    "    print('\\nRegions when coincide average and median gdp: \\n', regins_coincide)\n",
    "\n",
    "\n",
    "def top_least_5_gdp(dataset):\n",
    "    dataset['GDP'] = dataset['GDP per capita'] * dataset['Population']\n",
    "    print(\"\\n---------///----------\\n\")\n",
    "    print(\"Top 5 countries by GDP:\\n\")\n",
    "    print(dataset.sort_values(by=['GDP'], ascending=False).head(5))\n",
    "    print(\"Last 5 countries by GDP:\\n\")\n",
    "    print(dataset.sort_values(by=['GDP'], ascending=True).head(5))\n",
    "    print(\"\\n---------///----------\\n\")\n",
    "\n",
    "\n",
    "def top_least_5_co2_per_capita(dataset):\n",
    "    dataset['CO2 per capita'] = dataset['CO2 emission'] / dataset['Population']\n",
    "    print(\"\\n---------///----------\\n\")\n",
    "    print(\"Top 5 countries by CO2 per capita:\\n\")\n",
    "    print(dataset.sort_values(by=['CO2 per capita'], ascending=False).head(5))\n",
    "    print(\"Last 5 countries by CO2 per capita:\\n\")\n",
    "    print(dataset.sort_values(by=['CO2 per capita'], ascending=True).head(5))\n",
    "    print(\"\\n---------///----------\\n\")"
   ]
  },
  {
   "cell_type": "code",
   "execution_count": 40,
   "metadata": {
    "pycharm": {
     "name": "#%%\n"
    }
   },
   "outputs": [
    {
     "name": "stdout",
     "output_type": "stream",
     "text": [
      "<class 'pandas.core.frame.DataFrame'>\n",
      "RangeIndex: 217 entries, 0 to 216\n",
      "Data columns (total 6 columns):\n",
      " #   Column          Non-Null Count  Dtype  \n",
      "---  ------          --------------  -----  \n",
      " 0   Country Name    217 non-null    object \n",
      " 1   Region          217 non-null    object \n",
      " 2   GDP per capita  190 non-null    object \n",
      " 3   Population      216 non-null    float64\n",
      " 4   CO2 emission    205 non-null    object \n",
      " 5   Area            217 non-null    object \n",
      "dtypes: float64(1), object(5)\n",
      "memory usage: 10.3+ KB\n"
     ]
    }
   ],
   "source": [
    "data_path = 'data/Data2.csv'\n",
    "dataset = read_dataset(data_path)\n",
    "\n",
    "dataset.info()"
   ]
  },
  {
   "cell_type": "code",
   "execution_count": 41,
   "metadata": {
    "pycharm": {
     "name": "#%%\n"
    }
   },
   "outputs": [
    {
     "name": "stdout",
     "output_type": "stream",
     "text": [
      "          Country Name                      Region GDP per capita  Population CO2 emission     Area\n",
      "0          Afghanistan                  South Asia    561,7787463  34656032.0     9809,225   652860\n",
      "1              Albania       Europe & Central Asia     4124,98239   2876101.0     5716,853    28750\n",
      "2              Algeria  Middle East & North Africa    3916,881571  40606052.0   145400,217  2381740\n",
      "3       American Samoa         East Asia & Pacific    11834,74523     55599.0          NaN      200\n",
      "4              Andorra       Europe & Central Asia    36988,62203     77281.0      462,042      470\n",
      "5               Angola          Sub-Saharan Africa    3308,700233  28813463.0     34763,16  1246700\n",
      "6  Antigua and Barbuda   Latin America & Caribbean    14462,17628    100963.0      531,715      440\n",
      "7            Argentina   Latin America & Caribbean    12440,32098  43847430.0   204024,546  2780400\n",
      "8              Armenia       Europe & Central Asia    3614,688357   2924816.0     5529,836    29740\n",
      "9                Aruba   Latin America & Caribbean            NaN    104822.0      872,746      180\n"
     ]
    }
   ],
   "source": [
    "print(dataset.head(10))"
   ]
  },
  {
   "cell_type": "code",
   "execution_count": 42,
   "metadata": {
    "pycharm": {
     "name": "#%%\n"
    }
   },
   "outputs": [
    {
     "name": "stdout",
     "output_type": "stream",
     "text": [
      "          Country Name                      Region  GDP per capita  Population   CO2 emission       Area\n",
      "0          Afghanistan                  South Asia      561.778746  34656032.0    9809.225000   652860.0\n",
      "1              Albania       Europe & Central Asia     4124.982390   2876101.0    5716.853000    28750.0\n",
      "2              Algeria  Middle East & North Africa     3916.881571  40606052.0  145400.217000  2381740.0\n",
      "3       American Samoa         East Asia & Pacific    11834.745230     55599.0  165114.116337      200.0\n",
      "4              Andorra       Europe & Central Asia    36988.622030     77281.0     462.042000      470.0\n",
      "5               Angola          Sub-Saharan Africa     3308.700233  28813463.0   34763.160000  1246700.0\n",
      "6  Antigua and Barbuda   Latin America & Caribbean    14462.176280    100963.0     531.715000      440.0\n",
      "7            Argentina   Latin America & Caribbean    12440.320980  43847430.0  204024.546000  2780400.0\n",
      "8              Armenia       Europe & Central Asia     3614.688357   2924816.0    5529.836000    29740.0\n",
      "9                Aruba   Latin America & Caribbean    13374.833168    104822.0     872.746000      180.0\n"
     ]
    },
    {
     "name": "stderr",
     "output_type": "stream",
     "text": [
      "C:\\Users\\Пользователь\\AppData\\Local\\Temp\\ipykernel_20608\\3038387550.py:22: FutureWarning: The default value of numeric_only in DataFrame.mean is deprecated. In a future version, it will default to False. In addition, specifying 'numeric_only=None' is deprecated. Select only valid columns or specify the value of numeric_only to silence this warning.\n",
      "  dataset.fillna(dataset.mean(), inplace=True)\n"
     ]
    }
   ],
   "source": [
    "convert_column_to_float(dataset, \"Area\")\n",
    "convert_column_to_float(dataset, \"GDP per capita\")\n",
    "convert_column_to_float(dataset, \"CO2 emission\")\n",
    "\n",
    "\n",
    "convert_nan_to_mean(dataset)\n",
    "convert_float_to_positive(dataset, \"GDP per capita\")\n",
    "convert_float_to_positive(dataset, \"Area\")\n",
    "\n",
    "\n",
    "print(dataset.head(10))"
   ]
  },
  {
   "cell_type": "code",
   "execution_count": 47,
   "metadata": {
    "pycharm": {
     "name": "#%%\n"
    }
   },
   "outputs": [
    {
     "name": "stdout",
     "output_type": "stream",
     "text": [
      "     Country Name                      Region  GDP per capita  Population   CO2 emission       Area     Density\n",
      "0     Afghanistan                  South Asia      561.778746  34656032.0    9809.225000   652860.0   53.083405\n",
      "1         Albania       Europe & Central Asia     4124.982390   2876101.0    5716.853000    28750.0  100.038296\n",
      "2         Algeria  Middle East & North Africa     3916.881571  40606052.0  145400.217000  2381740.0   17.048902\n",
      "3  American Samoa         East Asia & Pacific    11834.745230     55599.0  165114.116337      200.0  277.995000\n",
      "4         Andorra       Europe & Central Asia    36988.622030     77281.0     462.042000      470.0  164.427660\n"
     ]
    }
   ],
   "source": [
    "dataset['Density'] = dataset['Population'] / dataset['Area']\n",
    "print(dataset.head(5))\n"
   ]
  },
  {
   "cell_type": "code",
   "execution_count": 44,
   "metadata": {
    "pycharm": {
     "name": "#%%\n"
    }
   },
   "outputs": [
    {
     "data": {
      "image/png": "[encoded data removed]",
      "text/plain": [
       "<Figure size 1200x600 with 4 Axes>"
      ]
     },
     "metadata": {},
     "output_type": "display_data"
    }
   ],
   "source": [
    "create_boxplots(dataset)\n"
   ]
  },
  {
   "cell_type": "code",
   "execution_count": 46,
   "metadata": {
    "pycharm": {
     "name": "#%%\n"
    }
   },
   "outputs": [
    {
     "data": {
      "image/png": "[encoded data removed]",
      "text/plain": [
       "<Figure size 1200x700 with 4 Axes>"
      ]
     },
     "metadata": {},
     "output_type": "display_data"
    }
   ],
   "source": [
    "create_hists(dataset)\n"
   ]
  },
  {
   "cell_type": "code",
   "execution_count": 8,
   "metadata": {
    "pycharm": {
     "name": "#%%\n"
    }
   },
   "outputs": [
    {
     "name": "stdout",
     "output_type": "stream",
     "text": [
      "\n",
      "---------///----------\n",
      "\n",
      "Name of the country with the max GDP per capita:  Luxembourg\n",
      "The max GDP per capita:  100738.6842\n",
      "\n",
      "---------///----------\n",
      "\n"
     ]
    }
   ],
   "source": [
    "country_max_gdp(dataset)\n"
   ]
  },
  {
   "cell_type": "code",
   "execution_count": 9,
   "metadata": {
    "pycharm": {
     "name": "#%%\n"
    }
   },
   "outputs": [
    {
     "name": "stdout",
     "output_type": "stream",
     "text": [
      "\n",
      "---------///----------\n",
      "\n",
      "Name of the country with the min Area:  Monaco\n",
      "The min Area:  2.0\n",
      "\n",
      "---------///----------\n",
      "\n"
     ]
    }
   ],
   "source": [
    "country_min_area(dataset)\n"
   ]
  },
  {
   "cell_type": "code",
   "execution_count": 16,
   "metadata": {
    "pycharm": {
     "name": "#%%\n"
    }
   },
   "outputs": [
    {
     "name": "stdout",
     "output_type": "stream",
     "text": [
      "\n",
      "---------///----------\n",
      "\n",
      "Name of the Region with the max mean Area:  North America\n",
      "The max mean Area:  6605410.0\n",
      "\n",
      "---------///----------\n",
      "\n"
     ]
    },
    {
     "name": "stderr",
     "output_type": "stream",
     "text": [
      "C:\\Users\\Пользователь\\AppData\\Local\\Temp\\ipykernel_20608\\3038387550.py:84: FutureWarning: The operation <function mean at 0x000001BE17DB3280> failed on a column. If any error is raised, this will raise an exception in a future version of pandas. Drop these columns to avoid this warning.\n",
      "  avg_area = dataset.groupby('Region').agg(np.mean)\n"
     ]
    }
   ],
   "source": [
    "max_avg_area_in_region(dataset)"
   ]
  },
  {
   "cell_type": "code",
   "execution_count": 17,
   "metadata": {
    "pycharm": {
     "name": "#%%\n"
    }
   },
   "outputs": [
    {
     "name": "stdout",
     "output_type": "stream",
     "text": [
      "\n",
      "---------///----------\n",
      "\n",
      "Name of the country with the max density in the world:  Macao SAR, China\n",
      "The max density in the world:  20203.531353135313\n",
      "\n",
      "---------///----------\n",
      "\n",
      "\n",
      "---------///----------\n",
      "\n",
      "Name of the country with the max density in Europe & Central Asia:  Monaco\n",
      "The max density in Europe & Central Asia:  19249.5\n",
      "\n",
      "---------///----------\n",
      "\n"
     ]
    }
   ],
   "source": [
    "max_density_in_regions(dataset)"
   ]
  },
  {
   "cell_type": "code",
   "execution_count": 18,
   "metadata": {
    "pycharm": {
     "name": "#%%\n"
    }
   },
   "outputs": [
    {
     "name": "stdout",
     "output_type": "stream",
     "text": [
      "\n",
      "Average gdp in region:  Region\n",
      "East Asia & Pacific           15124.489231\n",
      "Europe & Central Asia         22733.595488\n",
      "Latin America & Caribbean     10468.495458\n",
      "Middle East & North Africa    15449.053926\n",
      "North America                 37732.095786\n",
      "South Asia                     2795.213935\n",
      "Sub-Saharan Africa             2874.243005\n",
      "Name: GDP per capita, dtype: float64\n",
      "\n",
      "Median gdp in region:  Region\n",
      "East Asia & Pacific            5910.620932\n",
      "Europe & Central Asia         13374.833168\n",
      "Latin America & Caribbean     10833.201075\n",
      "Middle East & North Africa    13374.833168\n",
      "North America                 42183.295100\n",
      "South Asia                     1576.608412\n",
      "Sub-Saharan Africa             1034.390361\n",
      "Name: GDP per capita, dtype: float64\n",
      "\n",
      "Regions when coincide average and median gdp: \n",
      " Empty DataFrame\n",
      "Columns: [GDP per capita]\n",
      "Index: []\n"
     ]
    },
    {
     "name": "stderr",
     "output_type": "stream",
     "text": [
      "C:\\Users\\Пользователь\\AppData\\Local\\Temp\\ipykernel_20608\\3038387550.py:112: FutureWarning: The default value of numeric_only in DataFrameGroupBy.mean is deprecated. In a future version, numeric_only will default to False. Either specify numeric_only or select only columns which should be valid for the function.\n",
      "  regions_average_gdp = dataset.groupby(['Region']).mean()['GDP per capita']\n",
      "C:\\Users\\Пользователь\\AppData\\Local\\Temp\\ipykernel_20608\\3038387550.py:113: FutureWarning: The default value of numeric_only in DataFrameGroupBy.median is deprecated. In a future version, numeric_only will default to False. Either specify numeric_only or select only columns which should be valid for the function.\n",
      "  regions_mediana_gdp = dataset.groupby(['Region']).median()['GDP per capita']\n"
     ]
    }
   ],
   "source": [
    "median_mean_region_equal(dataset)\n"
   ]
  },
  {
   "cell_type": "code",
   "execution_count": 19,
   "metadata": {
    "pycharm": {
     "name": "#%%\n"
    }
   },
   "outputs": [
    {
     "name": "stdout",
     "output_type": "stream",
     "text": [
      "\n",
      "---------///----------\n",
      "\n",
      "Top 5 countries by GDP:\n",
      "\n",
      "       Country Name                 Region  GDP per capita   Populatiion  CO2 emission       Area    Population     Density           GDP\n",
      "206   United States          North America    57638.159090  3.231275e+08  5.254279e+06  9831510.0  3.231275e+08   32.866519  1.862448e+13\n",
      "41            China    East Asia & Pacific     8123.180873  1.378665e+09  1.029193e+07  9562911.0  1.378665e+09  144.167921  1.119915e+13\n",
      "97            Japan    East Asia & Pacific    38900.569310  1.269945e+08  1.214048e+06   377962.0  1.269945e+08  335.998092  4.940159e+12\n",
      "72          Germany  Europe & Central Asia    42161.319660  8.266768e+07  7.198834e+05   357380.0  8.266768e+07  231.315924  3.485379e+12\n",
      "205  United Kingdom  Europe & Central Asia    40367.037840  6.563724e+07  4.198202e+05   243610.0  6.563724e+07  269.435733  2.649581e+12\n",
      "Last 5 countries by GDP:\n",
      "\n",
      "         Country Name               Region  GDP per capita  Populatiion  CO2 emission   Area  Population     Density           GDP\n",
      "201            Tuvalu  East Asia & Pacific     3083.615251      11097.0        11.001   30.0     11097.0  369.900000  3.421888e+07\n",
      "137             Nauru  East Asia & Pacific     7821.298918      13049.0        47.671   20.0     13049.0  652.450000  1.020601e+08\n",
      "101          Kiribati  East Asia & Pacific     1587.057869     114395.0        62.339  810.0    114395.0  141.228395  1.815515e+08\n",
      "124  Marshall Islands  East Asia & Pacific     3665.207477      53066.0       102.676  180.0     53066.0  294.811111  1.944979e+08\n",
      "149             Palau  East Asia & Pacific    14428.140260      21503.0       260.357  460.0     21503.0   46.745652  3.102483e+08\n",
      "\n",
      "---------///----------\n",
      "\n"
     ]
    }
   ],
   "source": [
    "top_least_5_gdp(dataset)"
   ]
  },
  {
   "cell_type": "code",
   "execution_count": 20,
   "metadata": {
    "pycharm": {
     "name": "#%%\n"
    }
   },
   "outputs": [
    {
     "name": "stdout",
     "output_type": "stream",
     "text": [
      "\n",
      "---------///----------\n",
      "\n",
      "Top 5 countries by CO2 per capita:\n",
      "\n",
      "                 Country Name                     Region  GDP per capita  Populatiion   CO2 emission   Area  Population       Density           GDP  CO2 per capita\n",
      "182  St. Martin (French part)  Latin America & Caribbean    13374.833168      31949.0  165114.116337   54.4     31949.0    587.297794  4.273125e+08        5.168053\n",
      "163                San Marino      Europe & Central Asia    47908.561410      33203.0  165114.116337   60.0     33203.0    553.383333  1.590708e+09        4.972867\n",
      "130                    Monaco      Europe & Central Asia    13374.833168      38499.0  165114.116337    2.0     38499.0  19249.500000  5.149177e+08        4.288790\n",
      "145  Northern Mariana Islands        East Asia & Pacific    22572.378820      55023.0  165114.116337  460.0     55023.0    119.615217  1.242000e+09        3.000820\n",
      "3              American Samoa        East Asia & Pacific    11834.745230      55599.0  165114.116337  200.0     55599.0    277.995000  6.580000e+08        2.969732\n",
      "Last 5 countries by CO2 per capita:\n",
      "\n",
      "         Country Name              Region  GDP per capita   Populatiion  CO2 emission       Area    Population     Density           GDP  CO2 per capita\n",
      "61            Eritrea  Sub-Saharan Africa    13374.833168  3.432256e+07       696.730   117600.0  3.432256e+07  291.858502  4.590585e+11        0.000020\n",
      "31            Burundi  Sub-Saharan Africa      285.727442  1.052412e+07       440.040    27830.0  1.052412e+07  378.157276  3.007029e+09        0.000042\n",
      "175           Somalia  Sub-Saharan Africa      434.208810  1.431800e+07       608.722   637660.0  1.431800e+07   22.453966  6.217000e+09        0.000043\n",
      "38               Chad  Sub-Saharan Africa      664.295652  1.445254e+07       729.733  1284000.0  1.445254e+07   11.255875  9.600761e+09        0.000050\n",
      "44   Congo, Dem. Rep.  Sub-Saharan Africa      405.542501  7.873615e+07      4671.758  2344860.0  7.873615e+07   33.578189  3.193086e+10        0.000059\n",
      "\n",
      "---------///----------\n",
      "\n"
     ]
    }
   ],
   "source": [
    "top_least_5_co2_per_capita(dataset)\n"
   ]
  },
  {
   "cell_type": "code",
   "execution_count": null,
   "metadata": {
    "pycharm": {
     "name": "#%%\n"
    }
   },
   "outputs": [],
   "source": []
  }
 ],
 "metadata": {
  "kernelspec": {
   "display_name": "Python 3 (ipykernel)",
   "language": "python",
   "name": "python3"
  },
  "language_info": {
   "codemirror_mode": {
    "name": "ipython",
    "version": 3
   },
   "file_extension": ".py",
   "mimetype": "text/x-python",
   "name": "python",
   "nbconvert_exporter": "python",
   "pygments_lexer": "ipython3",
   "version": "3.8.2"
  }
 },
 "nbformat": 4,
 "nbformat_minor": 1
}