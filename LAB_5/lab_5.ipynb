{
 "cells": [
  {
   "cell_type": "markdown",
   "metadata": {
    "pycharm": {
     "name": "#%% md\n"
    }
   },
   "source": [
    "# Виконала студентка ІП-13 Лисенко Анастасія\n",
    "\n",
    "# Лабораторна робота №5\n",
    "\n",
    "1. Дослідити дані, підготувати їх для побудови регресійної моделі\n",
    "2. Розділити дані на навчальну та тестову вибірки\n",
    "3. Побудувати декілька регресійних моделей для прогнозу якості вина (12 - quality). Використати лінійну одномірну та багатомірну регресію та поліноміальну регресію обраного вами виду (3-5 моделей)\n",
    "4. Використовуючи тестову вибірку, з'ясувати яка з моделей краща\n"
   ]
  },
  {
   "cell_type": "markdown",
   "source": [
    "Встановлюємо потрібні бібліотеки"
   ],
   "metadata": {
    "collapsed": false,
    "pycharm": {
     "name": "#%% md\n"
    }
   }
  },
  {
   "cell_type": "code",
   "execution_count": 1,
   "metadata": {
    "pycharm": {
     "name": "#%%\n"
    },
    "scrolled": true
   },
   "outputs": [
    {
     "name": "stderr",
     "output_type": "stream",
     "text": [
      "WARNING: You are using pip version 21.3.1; however, version 23.1.2 is available.\n",
      "You should consider upgrading via the 'D:\\DA\\LAB_5\\venv\\Scripts\\python.exe -m pip install --upgrade pip' command.\n"
     ]
    }
   ],
   "source": [
    "!pip install pandas -q"
   ]
  },
  {
   "cell_type": "code",
   "execution_count": 2,
   "outputs": [
    {
     "name": "stderr",
     "output_type": "stream",
     "text": [
      "WARNING: You are using pip version 21.3.1; however, version 23.1.2 is available.\n",
      "You should consider upgrading via the 'D:\\DA\\LAB_5\\venv\\Scripts\\python.exe -m pip install --upgrade pip' command.\n"
     ]
    }
   ],
   "source": [
    "!pip install scikit-learn -q"
   ],
   "metadata": {
    "collapsed": false,
    "pycharm": {
     "name": "#%%\n"
    }
   }
  },
  {
   "cell_type": "code",
   "execution_count": 3,
   "metadata": {
    "pycharm": {
     "name": "#%%\n"
    }
   },
   "outputs": [],
   "source": [
    "import pandas as pd\n",
    "from sklearn.model_selection import train_test_split"
   ]
  },
  {
   "cell_type": "markdown",
   "source": [
    "Зчитуємо файл"
   ],
   "metadata": {
    "collapsed": false,
    "pycharm": {
     "name": "#%% md\n"
    }
   }
  },
  {
   "cell_type": "code",
   "execution_count": 4,
   "metadata": {
    "pycharm": {
     "name": "#%%\n"
    }
   },
   "outputs": [],
   "source": [
    "path = 'data/winequality-red.csv'\n",
    "\n",
    "dataset = pd.read_csv(path, sep=',', decimal='.')"
   ]
  },
  {
   "cell_type": "markdown",
   "source": [
    "Аналізуємо дані"
   ],
   "metadata": {
    "collapsed": false,
    "pycharm": {
     "name": "#%% md\n"
    }
   }
  },
  {
   "cell_type": "code",
   "execution_count": 5,
   "metadata": {
    "pycharm": {
     "name": "#%%\n"
    }
   },
   "outputs": [
    {
     "name": "stdout",
     "output_type": "stream",
     "text": [
      "<class 'pandas.core.frame.DataFrame'>\n",
      "RangeIndex: 1599 entries, 0 to 1598\n",
      "Data columns (total 12 columns):\n",
      " #   Column                Non-Null Count  Dtype  \n",
      "---  ------                --------------  -----  \n",
      " 0   fixed acidity         1599 non-null   float64\n",
      " 1   volatile acidity      1599 non-null   float64\n",
      " 2   citric acid           1599 non-null   float64\n",
      " 3   residual sugar        1599 non-null   float64\n",
      " 4   chlorides             1599 non-null   float64\n",
      " 5   free sulfur dioxide   1599 non-null   float64\n",
      " 6   total sulfur dioxide  1599 non-null   float64\n",
      " 7   density               1599 non-null   float64\n",
      " 8   pH                    1599 non-null   float64\n",
      " 9   sulphates             1599 non-null   float64\n",
      " 10  alcohol               1599 non-null   float64\n",
      " 11  quality               1599 non-null   int64  \n",
      "dtypes: float64(11), int64(1)\n",
      "memory usage: 150.0 KB\n"
     ]
    }
   ],
   "source": [
    "dataset.info()"
   ]
  },
  {
   "cell_type": "code",
   "execution_count": 6,
   "metadata": {
    "pycharm": {
     "name": "#%%\n"
    }
   },
   "outputs": [
    {
     "data": {
      "text/plain": "   fixed acidity  volatile acidity  citric acid  residual sugar  chlorides   \n0            7.4              0.70         0.00             1.9      0.076  \\\n1            7.8              0.88         0.00             2.6      0.098   \n2            7.8              0.76         0.04             2.3      0.092   \n3           11.2              0.28         0.56             1.9      0.075   \n4            7.4              0.70         0.00             1.9      0.076   \n\n   free sulfur dioxide  total sulfur dioxide  density    pH  sulphates   \n0                 11.0                  34.0   0.9978  3.51       0.56  \\\n1                 25.0                  67.0   0.9968  3.20       0.68   \n2                 15.0                  54.0   0.9970  3.26       0.65   \n3                 17.0                  60.0   0.9980  3.16       0.58   \n4                 11.0                  34.0   0.9978  3.51       0.56   \n\n   alcohol  quality  \n0      9.4        5  \n1      9.8        5  \n2      9.8        5  \n3      9.8        6  \n4      9.4        5  ",
      "text/html": "<div>\n<style scoped>\n    .dataframe tbody tr th:only-of-type {\n        vertical-align: middle;\n    }\n\n    .dataframe tbody tr th {\n        vertical-align: top;\n    }\n\n    .dataframe thead th {\n        text-align: right;\n    }\n</style>\n<table border=\"1\" class=\"dataframe\">\n  <thead>\n    <tr style=\"text-align: right;\">\n      <th></th>\n      <th>fixed acidity</th>\n      <th>volatile acidity</th>\n      <th>citric acid</th>\n      <th>residual sugar</th>\n      <th>chlorides</th>\n      <th>free sulfur dioxide</th>\n      <th>total sulfur dioxide</th>\n      <th>density</th>\n      <th>pH</th>\n      <th>sulphates</th>\n      <th>alcohol</th>\n      <th>quality</th>\n    </tr>\n  </thead>\n  <tbody>\n    <tr>\n      <th>0</th>\n      <td>7.4</td>\n      <td>0.70</td>\n      <td>0.00</td>\n      <td>1.9</td>\n      <td>0.076</td>\n      <td>11.0</td>\n      <td>34.0</td>\n      <td>0.9978</td>\n      <td>3.51</td>\n      <td>0.56</td>\n      <td>9.4</td>\n      <td>5</td>\n    </tr>\n    <tr>\n      <th>1</th>\n      <td>7.8</td>\n      <td>0.88</td>\n      <td>0.00</td>\n      <td>2.6</td>\n      <td>0.098</td>\n      <td>25.0</td>\n      <td>67.0</td>\n      <td>0.9968</td>\n      <td>3.20</td>\n      <td>0.68</td>\n      <td>9.8</td>\n      <td>5</td>\n    </tr>\n    <tr>\n      <th>2</th>\n      <td>7.8</td>\n      <td>0.76</td>\n      <td>0.04</td>\n      <td>2.3</td>\n      <td>0.092</td>\n      <td>15.0</td>\n      <td>54.0</td>\n      <td>0.9970</td>\n      <td>3.26</td>\n      <td>0.65</td>\n      <td>9.8</td>\n      <td>5</td>\n    </tr>\n    <tr>\n      <th>3</th>\n      <td>11.2</td>\n      <td>0.28</td>\n      <td>0.56</td>\n      <td>1.9</td>\n      <td>0.075</td>\n      <td>17.0</td>\n      <td>60.0</td>\n      <td>0.9980</td>\n      <td>3.16</td>\n      <td>0.58</td>\n      <td>9.8</td>\n      <td>6</td>\n    </tr>\n    <tr>\n      <th>4</th>\n      <td>7.4</td>\n      <td>0.70</td>\n      <td>0.00</td>\n      <td>1.9</td>\n      <td>0.076</td>\n      <td>11.0</td>\n      <td>34.0</td>\n      <td>0.9978</td>\n      <td>3.51</td>\n      <td>0.56</td>\n      <td>9.4</td>\n      <td>5</td>\n    </tr>\n  </tbody>\n</table>\n</div>"
     },
     "execution_count": 6,
     "metadata": {},
     "output_type": "execute_result"
    }
   ],
   "source": [
    "dataset.head()"
   ]
  },
  {
   "cell_type": "code",
   "execution_count": 7,
   "metadata": {
    "pycharm": {
     "name": "#%%\n"
    }
   },
   "outputs": [
    {
     "data": {
      "text/plain": "       fixed acidity  volatile acidity  citric acid  residual sugar   \ncount    1599.000000       1599.000000  1599.000000     1599.000000  \\\nmean        8.319637          0.527821     0.270976        2.538806   \nstd         1.741096          0.179060     0.194801        1.409928   \nmin         4.600000          0.120000     0.000000        0.900000   \n25%         7.100000          0.390000     0.090000        1.900000   \n50%         7.900000          0.520000     0.260000        2.200000   \n75%         9.200000          0.640000     0.420000        2.600000   \nmax        15.900000          1.580000     1.000000       15.500000   \n\n         chlorides  free sulfur dioxide  total sulfur dioxide      density   \ncount  1599.000000          1599.000000           1599.000000  1599.000000  \\\nmean      0.087467            15.874922             46.467792     0.996747   \nstd       0.047065            10.460157             32.895324     0.001887   \nmin       0.012000             1.000000              6.000000     0.990070   \n25%       0.070000             7.000000             22.000000     0.995600   \n50%       0.079000            14.000000             38.000000     0.996750   \n75%       0.090000            21.000000             62.000000     0.997835   \nmax       0.611000            72.000000            289.000000     1.003690   \n\n                pH    sulphates      alcohol      quality  \ncount  1599.000000  1599.000000  1599.000000  1599.000000  \nmean      3.311113     0.658149    10.422983     5.636023  \nstd       0.154386     0.169507     1.065668     0.807569  \nmin       2.740000     0.330000     8.400000     3.000000  \n25%       3.210000     0.550000     9.500000     5.000000  \n50%       3.310000     0.620000    10.200000     6.000000  \n75%       3.400000     0.730000    11.100000     6.000000  \nmax       4.010000     2.000000    14.900000     8.000000  ",
      "text/html": "<div>\n<style scoped>\n    .dataframe tbody tr th:only-of-type {\n        vertical-align: middle;\n    }\n\n    .dataframe tbody tr th {\n        vertical-align: top;\n    }\n\n    .dataframe thead th {\n        text-align: right;\n    }\n</style>\n<table border=\"1\" class=\"dataframe\">\n  <thead>\n    <tr style=\"text-align: right;\">\n      <th></th>\n      <th>fixed acidity</th>\n      <th>volatile acidity</th>\n      <th>citric acid</th>\n      <th>residual sugar</th>\n      <th>chlorides</th>\n      <th>free sulfur dioxide</th>\n      <th>total sulfur dioxide</th>\n      <th>density</th>\n      <th>pH</th>\n      <th>sulphates</th>\n      <th>alcohol</th>\n      <th>quality</th>\n    </tr>\n  </thead>\n  <tbody>\n    <tr>\n      <th>count</th>\n      <td>1599.000000</td>\n      <td>1599.000000</td>\n      <td>1599.000000</td>\n      <td>1599.000000</td>\n      <td>1599.000000</td>\n      <td>1599.000000</td>\n      <td>1599.000000</td>\n      <td>1599.000000</td>\n      <td>1599.000000</td>\n      <td>1599.000000</td>\n      <td>1599.000000</td>\n      <td>1599.000000</td>\n    </tr>\n    <tr>\n      <th>mean</th>\n      <td>8.319637</td>\n      <td>0.527821</td>\n      <td>0.270976</td>\n      <td>2.538806</td>\n      <td>0.087467</td>\n      <td>15.874922</td>\n      <td>46.467792</td>\n      <td>0.996747</td>\n      <td>3.311113</td>\n      <td>0.658149</td>\n      <td>10.422983</td>\n      <td>5.636023</td>\n    </tr>\n    <tr>\n      <th>std</th>\n      <td>1.741096</td>\n      <td>0.179060</td>\n      <td>0.194801</td>\n      <td>1.409928</td>\n      <td>0.047065</td>\n      <td>10.460157</td>\n      <td>32.895324</td>\n      <td>0.001887</td>\n      <td>0.154386</td>\n      <td>0.169507</td>\n      <td>1.065668</td>\n      <td>0.807569</td>\n    </tr>\n    <tr>\n      <th>min</th>\n      <td>4.600000</td>\n      <td>0.120000</td>\n      <td>0.000000</td>\n      <td>0.900000</td>\n      <td>0.012000</td>\n      <td>1.000000</td>\n      <td>6.000000</td>\n      <td>0.990070</td>\n      <td>2.740000</td>\n      <td>0.330000</td>\n      <td>8.400000</td>\n      <td>3.000000</td>\n    </tr>\n    <tr>\n      <th>25%</th>\n      <td>7.100000</td>\n      <td>0.390000</td>\n      <td>0.090000</td>\n      <td>1.900000</td>\n      <td>0.070000</td>\n      <td>7.000000</td>\n      <td>22.000000</td>\n      <td>0.995600</td>\n      <td>3.210000</td>\n      <td>0.550000</td>\n      <td>9.500000</td>\n      <td>5.000000</td>\n    </tr>\n    <tr>\n      <th>50%</th>\n      <td>7.900000</td>\n      <td>0.520000</td>\n      <td>0.260000</td>\n      <td>2.200000</td>\n      <td>0.079000</td>\n      <td>14.000000</td>\n      <td>38.000000</td>\n      <td>0.996750</td>\n      <td>3.310000</td>\n      <td>0.620000</td>\n      <td>10.200000</td>\n      <td>6.000000</td>\n    </tr>\n    <tr>\n      <th>75%</th>\n      <td>9.200000</td>\n      <td>0.640000</td>\n      <td>0.420000</td>\n      <td>2.600000</td>\n      <td>0.090000</td>\n      <td>21.000000</td>\n      <td>62.000000</td>\n      <td>0.997835</td>\n      <td>3.400000</td>\n      <td>0.730000</td>\n      <td>11.100000</td>\n      <td>6.000000</td>\n    </tr>\n    <tr>\n      <th>max</th>\n      <td>15.900000</td>\n      <td>1.580000</td>\n      <td>1.000000</td>\n      <td>15.500000</td>\n      <td>0.611000</td>\n      <td>72.000000</td>\n      <td>289.000000</td>\n      <td>1.003690</td>\n      <td>4.010000</td>\n      <td>2.000000</td>\n      <td>14.900000</td>\n      <td>8.000000</td>\n    </tr>\n  </tbody>\n</table>\n</div>"
     },
     "execution_count": 7,
     "metadata": {},
     "output_type": "execute_result"
    }
   ],
   "source": [
    "dataset.describe()"
   ]
  },
  {
   "cell_type": "markdown",
   "source": [
    "Очищаємо дані: заміна пустих значень на середні"
   ],
   "metadata": {
    "collapsed": false,
    "pycharm": {
     "name": "#%% md\n"
    }
   }
  },
  {
   "cell_type": "code",
   "execution_count": 8,
   "metadata": {
    "pycharm": {
     "name": "#%%\n"
    }
   },
   "outputs": [],
   "source": [
    "def data_transformation(dataset, columns):\n",
    "    dataset.fillna(dataset.mean(numeric_only=True), inplace=True)\n",
    "    for column in columns:\n",
    "        dataset[column] = dataset[column].abs()\n",
    "\n",
    "data_transformation(dataset, dataset.columns.to_list())\n"
   ]
  },
  {
   "cell_type": "markdown",
   "source": [
    "Бачимо, що параметр з найбільшим кофіцієнтом кореляції до quality є alcohol (0.476166)"
   ],
   "metadata": {
    "collapsed": false,
    "pycharm": {
     "name": "#%% md\n"
    }
   }
  },
  {
   "cell_type": "code",
   "execution_count": 9,
   "metadata": {
    "pycharm": {
     "name": "#%%\n"
    }
   },
   "outputs": [
    {
     "data": {
      "text/plain": "                      fixed acidity  volatile acidity  citric acid   \nfixed acidity              1.000000         -0.256131     0.671703  \\\nvolatile acidity          -0.256131          1.000000    -0.552496   \ncitric acid                0.671703         -0.552496     1.000000   \nresidual sugar             0.114777          0.001918     0.143577   \nchlorides                  0.093705          0.061298     0.203823   \nfree sulfur dioxide       -0.153794         -0.010504    -0.060978   \ntotal sulfur dioxide      -0.113181          0.076470     0.035533   \ndensity                    0.668047          0.022026     0.364947   \npH                        -0.682978          0.234937    -0.541904   \nsulphates                  0.183006         -0.260987     0.312770   \nalcohol                   -0.061668         -0.202288     0.109903   \nquality                    0.124052         -0.390558     0.226373   \n\n                      residual sugar  chlorides  free sulfur dioxide   \nfixed acidity               0.114777   0.093705            -0.153794  \\\nvolatile acidity            0.001918   0.061298            -0.010504   \ncitric acid                 0.143577   0.203823            -0.060978   \nresidual sugar              1.000000   0.055610             0.187049   \nchlorides                   0.055610   1.000000             0.005562   \nfree sulfur dioxide         0.187049   0.005562             1.000000   \ntotal sulfur dioxide        0.203028   0.047400             0.667666   \ndensity                     0.355283   0.200632            -0.021946   \npH                         -0.085652  -0.265026             0.070377   \nsulphates                   0.005527   0.371260             0.051658   \nalcohol                     0.042075  -0.221141            -0.069408   \nquality                     0.013732  -0.128907            -0.050656   \n\n                      total sulfur dioxide   density        pH  sulphates   \nfixed acidity                    -0.113181  0.668047 -0.682978   0.183006  \\\nvolatile acidity                  0.076470  0.022026  0.234937  -0.260987   \ncitric acid                       0.035533  0.364947 -0.541904   0.312770   \nresidual sugar                    0.203028  0.355283 -0.085652   0.005527   \nchlorides                         0.047400  0.200632 -0.265026   0.371260   \nfree sulfur dioxide               0.667666 -0.021946  0.070377   0.051658   \ntotal sulfur dioxide              1.000000  0.071269 -0.066495   0.042947   \ndensity                           0.071269  1.000000 -0.341699   0.148506   \npH                               -0.066495 -0.341699  1.000000  -0.196648   \nsulphates                         0.042947  0.148506 -0.196648   1.000000   \nalcohol                          -0.205654 -0.496180  0.205633   0.093595   \nquality                          -0.185100 -0.174919 -0.057731   0.251397   \n\n                       alcohol   quality  \nfixed acidity        -0.061668  0.124052  \nvolatile acidity     -0.202288 -0.390558  \ncitric acid           0.109903  0.226373  \nresidual sugar        0.042075  0.013732  \nchlorides            -0.221141 -0.128907  \nfree sulfur dioxide  -0.069408 -0.050656  \ntotal sulfur dioxide -0.205654 -0.185100  \ndensity              -0.496180 -0.174919  \npH                    0.205633 -0.057731  \nsulphates             0.093595  0.251397  \nalcohol               1.000000  0.476166  \nquality               0.476166  1.000000  ",
      "text/html": "<div>\n<style scoped>\n    .dataframe tbody tr th:only-of-type {\n        vertical-align: middle;\n    }\n\n    .dataframe tbody tr th {\n        vertical-align: top;\n    }\n\n    .dataframe thead th {\n        text-align: right;\n    }\n</style>\n<table border=\"1\" class=\"dataframe\">\n  <thead>\n    <tr style=\"text-align: right;\">\n      <th></th>\n      <th>fixed acidity</th>\n      <th>volatile acidity</th>\n      <th>citric acid</th>\n      <th>residual sugar</th>\n      <th>chlorides</th>\n      <th>free sulfur dioxide</th>\n      <th>total sulfur dioxide</th>\n      <th>density</th>\n      <th>pH</th>\n      <th>sulphates</th>\n      <th>alcohol</th>\n      <th>quality</th>\n    </tr>\n  </thead>\n  <tbody>\n    <tr>\n      <th>fixed acidity</th>\n      <td>1.000000</td>\n      <td>-0.256131</td>\n      <td>0.671703</td>\n      <td>0.114777</td>\n      <td>0.093705</td>\n      <td>-0.153794</td>\n      <td>-0.113181</td>\n      <td>0.668047</td>\n      <td>-0.682978</td>\n      <td>0.183006</td>\n      <td>-0.061668</td>\n      <td>0.124052</td>\n    </tr>\n    <tr>\n      <th>volatile acidity</th>\n      <td>-0.256131</td>\n      <td>1.000000</td>\n      <td>-0.552496</td>\n      <td>0.001918</td>\n      <td>0.061298</td>\n      <td>-0.010504</td>\n      <td>0.076470</td>\n      <td>0.022026</td>\n      <td>0.234937</td>\n      <td>-0.260987</td>\n      <td>-0.202288</td>\n      <td>-0.390558</td>\n    </tr>\n    <tr>\n      <th>citric acid</th>\n      <td>0.671703</td>\n      <td>-0.552496</td>\n      <td>1.000000</td>\n      <td>0.143577</td>\n      <td>0.203823</td>\n      <td>-0.060978</td>\n      <td>0.035533</td>\n      <td>0.364947</td>\n      <td>-0.541904</td>\n      <td>0.312770</td>\n      <td>0.109903</td>\n      <td>0.226373</td>\n    </tr>\n    <tr>\n      <th>residual sugar</th>\n      <td>0.114777</td>\n      <td>0.001918</td>\n      <td>0.143577</td>\n      <td>1.000000</td>\n      <td>0.055610</td>\n      <td>0.187049</td>\n      <td>0.203028</td>\n      <td>0.355283</td>\n      <td>-0.085652</td>\n      <td>0.005527</td>\n      <td>0.042075</td>\n      <td>0.013732</td>\n    </tr>\n    <tr>\n      <th>chlorides</th>\n      <td>0.093705</td>\n      <td>0.061298</td>\n      <td>0.203823</td>\n      <td>0.055610</td>\n      <td>1.000000</td>\n      <td>0.005562</td>\n      <td>0.047400</td>\n      <td>0.200632</td>\n      <td>-0.265026</td>\n      <td>0.371260</td>\n      <td>-0.221141</td>\n      <td>-0.128907</td>\n    </tr>\n    <tr>\n      <th>free sulfur dioxide</th>\n      <td>-0.153794</td>\n      <td>-0.010504</td>\n      <td>-0.060978</td>\n      <td>0.187049</td>\n      <td>0.005562</td>\n      <td>1.000000</td>\n      <td>0.667666</td>\n      <td>-0.021946</td>\n      <td>0.070377</td>\n      <td>0.051658</td>\n      <td>-0.069408</td>\n      <td>-0.050656</td>\n    </tr>\n    <tr>\n      <th>total sulfur dioxide</th>\n      <td>-0.113181</td>\n      <td>0.076470</td>\n      <td>0.035533</td>\n      <td>0.203028</td>\n      <td>0.047400</td>\n      <td>0.667666</td>\n      <td>1.000000</td>\n      <td>0.071269</td>\n      <td>-0.066495</td>\n      <td>0.042947</td>\n      <td>-0.205654</td>\n      <td>-0.185100</td>\n    </tr>\n    <tr>\n      <th>density</th>\n      <td>0.668047</td>\n      <td>0.022026</td>\n      <td>0.364947</td>\n      <td>0.355283</td>\n      <td>0.200632</td>\n      <td>-0.021946</td>\n      <td>0.071269</td>\n      <td>1.000000</td>\n      <td>-0.341699</td>\n      <td>0.148506</td>\n      <td>-0.496180</td>\n      <td>-0.174919</td>\n    </tr>\n    <tr>\n      <th>pH</th>\n      <td>-0.682978</td>\n      <td>0.234937</td>\n      <td>-0.541904</td>\n      <td>-0.085652</td>\n      <td>-0.265026</td>\n      <td>0.070377</td>\n      <td>-0.066495</td>\n      <td>-0.341699</td>\n      <td>1.000000</td>\n      <td>-0.196648</td>\n      <td>0.205633</td>\n      <td>-0.057731</td>\n    </tr>\n    <tr>\n      <th>sulphates</th>\n      <td>0.183006</td>\n      <td>-0.260987</td>\n      <td>0.312770</td>\n      <td>0.005527</td>\n      <td>0.371260</td>\n      <td>0.051658</td>\n      <td>0.042947</td>\n      <td>0.148506</td>\n      <td>-0.196648</td>\n      <td>1.000000</td>\n      <td>0.093595</td>\n      <td>0.251397</td>\n    </tr>\n    <tr>\n      <th>alcohol</th>\n      <td>-0.061668</td>\n      <td>-0.202288</td>\n      <td>0.109903</td>\n      <td>0.042075</td>\n      <td>-0.221141</td>\n      <td>-0.069408</td>\n      <td>-0.205654</td>\n      <td>-0.496180</td>\n      <td>0.205633</td>\n      <td>0.093595</td>\n      <td>1.000000</td>\n      <td>0.476166</td>\n    </tr>\n    <tr>\n      <th>quality</th>\n      <td>0.124052</td>\n      <td>-0.390558</td>\n      <td>0.226373</td>\n      <td>0.013732</td>\n      <td>-0.128907</td>\n      <td>-0.050656</td>\n      <td>-0.185100</td>\n      <td>-0.174919</td>\n      <td>-0.057731</td>\n      <td>0.251397</td>\n      <td>0.476166</td>\n      <td>1.000000</td>\n    </tr>\n  </tbody>\n</table>\n</div>"
     },
     "execution_count": 9,
     "metadata": {},
     "output_type": "execute_result"
    }
   ],
   "source": [
    "dataset.corr()"
   ]
  },
  {
   "cell_type": "markdown",
   "source": [
    "За допомогою функції train_test_split ділимо основні дані на навчальну та тестову"
   ],
   "metadata": {
    "collapsed": false,
    "pycharm": {
     "name": "#%% md\n"
    }
   }
  },
  {
   "cell_type": "code",
   "execution_count": 10,
   "metadata": {
    "pycharm": {
     "name": "#%%\n"
    }
   },
   "outputs": [],
   "source": [
    "wine_train_selection, wine_test_selection = train_test_split(dataset)"
   ]
  },
  {
   "cell_type": "markdown",
   "source": [
    "Розділяємо дані по колонці quality"
   ],
   "metadata": {
    "collapsed": false,
    "pycharm": {
     "name": "#%% md\n"
    }
   }
  },
  {
   "cell_type": "code",
   "execution_count": 11,
   "metadata": {
    "pycharm": {
     "name": "#%%\n"
    }
   },
   "outputs": [],
   "source": [
    "def division(dataset, column):\n",
    "    x_columns = dataset.loc[:, dataset.columns != column]\n",
    "    y_column = dataset[column]\n",
    "    return x_columns, y_column\n",
    "\n",
    "x_wine_train_sel, y_wine_train_sel = division(wine_train_selection, \"quality\")\n",
    "x_wine_test_sel, y_wine_test_sel = division(wine_test_selection, \"quality\")"
   ]
  },
  {
   "cell_type": "markdown",
   "source": [
    "Виділяємо ознаку alcohol для наших виборок"
   ],
   "metadata": {
    "collapsed": false,
    "pycharm": {
     "name": "#%% md\n"
    }
   }
  },
  {
   "cell_type": "code",
   "execution_count": 12,
   "outputs": [],
   "source": [
    "x_alcohol_train = x_wine_train_sel[[\"alcohol\"]]\n",
    "x_alcohol_test = x_wine_test_sel[[\"alcohol\"]]"
   ],
   "metadata": {
    "collapsed": false,
    "pycharm": {
     "name": "#%%\n"
    }
   }
  },
  {
   "cell_type": "markdown",
   "source": [
    "Будуємо лінійну регресію за ознакою alcohol"
   ],
   "metadata": {
    "collapsed": false,
    "pycharm": {
     "name": "#%% md\n"
    }
   }
  },
  {
   "cell_type": "code",
   "execution_count": 13,
   "metadata": {
    "pycharm": {
     "name": "#%%\n"
    }
   },
   "outputs": [],
   "source": [
    "from sklearn.linear_model import LinearRegression\n",
    "\n",
    "linear_regression = LinearRegression().fit(x_alcohol_train, y_wine_train_sel)"
   ]
  },
  {
   "cell_type": "markdown",
   "source": [
    "Будуємо багатовимірну регресію за всіма ознаками"
   ],
   "metadata": {
    "collapsed": false,
    "pycharm": {
     "name": "#%% md\n"
    }
   }
  },
  {
   "cell_type": "code",
   "execution_count": 14,
   "outputs": [],
   "source": [
    "multivarative_regression = LinearRegression().fit(x_wine_train_sel, y_wine_train_sel)"
   ],
   "metadata": {
    "collapsed": false,
    "pycharm": {
     "name": "#%%\n"
    }
   }
  },
  {
   "cell_type": "markdown",
   "source": [
    "Будуємо поліноміальну регресію другого ступеню за ознакою alcohol"
   ],
   "metadata": {
    "collapsed": false,
    "pycharm": {
     "name": "#%% md\n"
    }
   }
  },
  {
   "cell_type": "code",
   "execution_count": 15,
   "metadata": {
    "pycharm": {
     "name": "#%%\n"
    }
   },
   "outputs": [],
   "source": [
    "from sklearn.pipeline import make_pipeline\n",
    "from sklearn.preprocessing import PolynomialFeatures\n",
    "\n",
    "polynomial_regression = make_pipeline(PolynomialFeatures(degree=2), LinearRegression()).fit(x_wine_train_sel, y_wine_train_sel)"
   ]
  },
  {
   "cell_type": "code",
   "execution_count": 19,
   "outputs": [],
   "source": [
    "from sklearn.metrics import mean_squared_error, r2_score, mean_absolute_error\n",
    "def test_regression(regression, x_test, y_test):\n",
    "    predictions = regression.predict(x_test)\n",
    "    mean_squared_erorr_result = mean_squared_error(y_test, predictions)\n",
    "    mean_absolute_erorr_result = mean_absolute_error(y_test, predictions)\n",
    "    r2_result = r2_score(y_test, predictions)\n",
    "    return mean_squared_erorr_result, r2_result, mean_absolute_erorr_result"
   ],
   "metadata": {
    "collapsed": false,
    "pycharm": {
     "name": "#%%\n"
    }
   }
  },
  {
   "cell_type": "markdown",
   "source": [
    "Знаходимо MSE, R2 та MAE для наших регресій"
   ],
   "metadata": {
    "collapsed": false,
    "pycharm": {
     "name": "#%% md\n"
    }
   }
  },
  {
   "cell_type": "code",
   "execution_count": 20,
   "outputs": [],
   "source": [
    "linear_mean_squared, linear_r2, linear_mean_absolute = test_regression(linear_regression, x_alcohol_train, y_wine_train_sel)\n",
    "multivarative_mean_squared, multivarative_r2, multivarative_mean_absolute = test_regression(multivarative_regression, x_wine_train_sel, y_wine_train_sel)\n",
    "polynomial_mean_squared, polynomial_r2, polynomial_mean_absolute = test_regression(polynomial_regression, x_wine_train_sel, y_wine_train_sel)"
   ],
   "metadata": {
    "collapsed": false,
    "pycharm": {
     "name": "#%%\n"
    }
   }
  },
  {
   "cell_type": "markdown",
   "source": [
    "Виводимо результати досліджень"
   ],
   "metadata": {
    "collapsed": false,
    "pycharm": {
     "name": "#%% md\n"
    }
   }
  },
  {
   "cell_type": "code",
   "execution_count": 21,
   "outputs": [
    {
     "name": "stdout",
     "output_type": "stream",
     "text": [
      "Linear regression mean squared error:  0.4743922876778837\n",
      "Linear regression r2 error:  0.23142904312418477\n",
      "Linear regression mean absolute error:  0.5468550705245288\n",
      "Multivarative regression mean squared error:  0.4031525908818852\n",
      "Multivarative regression r2 error:  0.34684567901018204\n",
      "Multivarative regression mean absolute error:  0.494868500297223\n",
      "Polynomial regression mean squared error:  0.34967304812782213\n",
      "Polynomial regression r2 error:  0.43348878939666546\n",
      "Polynomial regression mean absolute error:  0.46030401996522397\n"
     ]
    }
   ],
   "source": [
    "print(\"Linear regression mean squared error: \", linear_mean_squared)\n",
    "print(\"Linear regression r2 error: \", linear_r2)\n",
    "print(\"Linear regression mean absolute error: \", linear_mean_absolute)\n",
    "\n",
    "print(\"Multivarative regression mean squared error: \", multivarative_mean_squared)\n",
    "print(\"Multivarative regression r2 error: \", multivarative_r2)\n",
    "print(\"Multivarative regression mean absolute error: \", multivarative_mean_absolute)\n",
    "\n",
    "print(\"Polynomial regression mean squared error: \", polynomial_mean_squared)\n",
    "print(\"Polynomial regression r2 error: \", polynomial_r2)\n",
    "print(\"Polynomial regression mean absolute error: \", polynomial_mean_absolute)"
   ],
   "metadata": {
    "collapsed": false,
    "pycharm": {
     "name": "#%%\n"
    }
   }
  },
  {
   "cell_type": "markdown",
   "source": [
    "У цьому випадку ми бачимо, що поліноміальна регресія має найнижчу MSE і найвище значення R2, що вказує на те, що вона може бути найкращою моделлю."
   ],
   "metadata": {
    "collapsed": false,
    "pycharm": {
     "name": "#%% md\n"
    }
   }
  },
  {
   "cell_type": "code",
   "execution_count": null,
   "outputs": [],
   "source": [],
   "metadata": {
    "collapsed": false,
    "pycharm": {
     "name": "#%%\n"
    }
   }
  }
 ],
 "metadata": {
  "kernelspec": {
   "display_name": "Python 3 (ipykernel)",
   "language": "python",
   "name": "python3"
  },
  "language_info": {
   "codemirror_mode": {
    "name": "ipython",
    "version": 3
   },
   "file_extension": ".py",
   "mimetype": "text/x-python",
   "name": "python",
   "nbconvert_exporter": "python",
   "pygments_lexer": "ipython3",
   "version": "3.8.2"
  }
 },
 "nbformat": 4,
 "nbformat_minor": 2
}